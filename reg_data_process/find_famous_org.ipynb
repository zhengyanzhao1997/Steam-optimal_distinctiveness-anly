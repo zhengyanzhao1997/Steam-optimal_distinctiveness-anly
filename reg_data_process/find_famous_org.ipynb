{
 "cells": [
  {
   "cell_type": "code",
   "execution_count": 4,
   "id": "11684c78-3e86-494c-baa3-32a87da35da6",
   "metadata": {},
   "outputs": [],
   "source": [
    "import json\n",
    "from tqdm import tqdm\n",
    "import numpy as np"
   ]
  },
  {
   "cell_type": "code",
   "execution_count": 4,
   "id": "bc334dfc-e0e9-47cc-aef5-814c712d53c5",
   "metadata": {},
   "outputs": [
    {
     "name": "stderr",
     "output_type": "stream",
     "text": [
      "18710it [02:00, 155.53it/s]\n"
     ]
    }
   ],
   "source": [
    "dict_p = {}\n",
    "dict_d = {}\n",
    "with open('./total_detail_new.json') as f:\n",
    "    for i in tqdm(f):\n",
    "        app = json.loads(i)\n",
    "        game_info = app['game_info']\n",
    "        publisher = game_info['publisher']\n",
    "        developer = game_info['developer']\n",
    "        review_count = game_info['review_count']\n",
    "        for pber in publisher:\n",
    "            if pber in dict_p.keys():\n",
    "                dict_p[pber].append(review_count)\n",
    "            else:\n",
    "                dict_p[pber] = [review_count]\n",
    "        for depr in developer:\n",
    "            if depr in dict_d.keys():\n",
    "                dict_d[depr].append(review_count)\n",
    "            else:\n",
    "                dict_d[depr] = [review_count]"
   ]
  },
  {
   "cell_type": "code",
   "execution_count": 5,
   "id": "541eb193-996f-46d0-9172-48f6006a8055",
   "metadata": {},
   "outputs": [],
   "source": [
    "publisher = {}\n",
    "with open('./publisher.json','r') as f:\n",
    "    for i in f:\n",
    "        pub = json.loads(i)\n",
    "        publisher[pub['name']] = (pub['steam_followers'], pub['tweet_followers'],(pub['steam_followers'] + pub['tweet_followers'] if pub['tweet_followers'] else pub['steam_followers'])/2)"
   ]
  },
  {
   "cell_type": "code",
   "execution_count": 57,
   "id": "576d2f9a-ff6a-4cd5-abd0-9159e643ffe0",
   "metadata": {},
   "outputs": [],
   "source": [
    "def longer_common_sequence(str1, str2):\n",
    "    \"\"\"\n",
    "    最大公共子序列 实现\n",
    "    \"\"\"\n",
    "    str1 = str1.lower()\n",
    "    str2 = str2.lower()\n",
    "    len1 = len(str1)\n",
    "    len2 = len(str2)\n",
    "    max_lcq_len = 0\n",
    "    max_len_axis = (0, 0)\n",
    "    lcq_matrix = [[0 for j in range(len2+1)] for i in range(len1+1)]\n",
    "    for i, char_1 in enumerate(str1):\n",
    "        for j, char_2 in enumerate(str2):\n",
    "            if char_1 == char_2:\n",
    "                lcq_matrix[i+1][j+1] = lcq_matrix[i][j] + 1\n",
    "                if lcq_matrix[i+1][j+1] > max_lcq_len:\n",
    "                    max_lcq_len = lcq_matrix[i+1][j+1]\n",
    "                    max_len_axis = (i, j)\n",
    "            else:\n",
    "                lcq_matrix[i+1][j+1] = max(lcq_matrix[i+1][j], lcq_matrix[i][j+1])\n",
    "    return max_lcq_len"
   ]
  },
  {
   "cell_type": "code",
   "execution_count": 33,
   "id": "85afc80c-5024-4a4a-a2b3-0ca51d3698b2",
   "metadata": {},
   "outputs": [],
   "source": [
    "def find_lcsubstr(s1, s2): \n",
    "    s1 = s1.lower()\n",
    "    s2 = s2.lower()\n",
    "    m = [[0 for i in range(len(s2)+1)]  for j in range(len(s1)+1)]\n",
    "    mmax=0   #最长匹配的长度\n",
    "    p=0  #最长匹配对应在s1中的最后一位\n",
    "    for i in range(len(s1)):\n",
    "        for j in range(len(s2)):\n",
    "            if s1[i]==s2[j]:\n",
    "                m[i+1][j+1]=m[i][j]+1\n",
    "                if m[i+1][j+1]>mmax:\n",
    "                    mmax=m[i+1][j+1]\n",
    "                    p=i+1\n",
    "    return mmax"
   ]
  },
  {
   "cell_type": "markdown",
   "id": "6d09d4fe-6219-498f-8ba4-44a9366a4b97",
   "metadata": {},
   "source": [
    "# publisher"
   ]
  },
  {
   "cell_type": "code",
   "execution_count": 275,
   "id": "535d0ebd-e68f-45e6-bcbd-2c8d5ecd59d0",
   "metadata": {},
   "outputs": [],
   "source": [
    "result_p = {}\n",
    "for k,v in dict_p.items():\n",
    "    if len(v) >= 10:\n",
    "        result_p[k] = {'game_review':(int(np.mean(v)),int(np.sum(v)),len(v),np.max(v),np.max(v)/np.sum(v)),'followers':None}"
   ]
  },
  {
   "cell_type": "code",
   "execution_count": 276,
   "id": "0be731f1-8e49-4f62-aba9-106aafce7b25",
   "metadata": {},
   "outputs": [
    {
     "name": "stderr",
     "output_type": "stream",
     "text": [
      "100%|██████████| 257/257 [01:18<00:00,  3.26it/s]\n"
     ]
    }
   ],
   "source": [
    "publisher_key = list(publisher.keys())\n",
    "for k,v in tqdm(result_p.items()):\n",
    "    if k in publisher.keys():\n",
    "        result_p[k]['match_name'] = k\n",
    "        result_p[k]['followers'] = publisher[k]\n",
    "    else:\n",
    "        max_index = np.argmax([longer_common_sequence(k,x) for x in publisher_key])\n",
    "        match_name = publisher_key[max_index]\n",
    "        result_p[k]['followers'] = publisher[match_name]\n",
    "        result_p[k]['match_name'] = match_name"
   ]
  },
  {
   "cell_type": "code",
   "execution_count": 277,
   "id": "12a7f48b-ed8f-48ae-bbba-8afdfe2dfba3",
   "metadata": {},
   "outputs": [],
   "source": [
    "output = []\n",
    "for k,v in result_p.items():\n",
    "    output.append({'name':k,'game_review':v['game_review'],'followers':v['followers'],'match_name':v['match_name']})"
   ]
  },
  {
   "cell_type": "code",
   "execution_count": 279,
   "id": "c8dd03c8-f2b8-4e3d-9f42-d5ffdb4958ba",
   "metadata": {},
   "outputs": [],
   "source": [
    "output = sorted(output,key=lambda x:x['followers'][2],reverse=True)"
   ]
  },
  {
   "cell_type": "code",
   "execution_count": 286,
   "id": "87be2db5-8764-4a40-a956-9d950a388911",
   "metadata": {},
   "outputs": [],
   "source": [
    "p_result = [x for x in output if x['followers'][0] > 100000 or (x['followers'][1] and x['followers'][1] > 100000)]"
   ]
  },
  {
   "cell_type": "code",
   "execution_count": 7,
   "id": "d173879a-d809-44bf-88c3-2a5e99bbf231",
   "metadata": {},
   "outputs": [
    {
     "name": "stdout",
     "output_type": "stream",
     "text": [
      "5398\n"
     ]
    },
    {
     "name": "stderr",
     "output_type": "stream",
     "text": [
      "100%|██████████| 8178/8178 [10:29<00:00, 12.99it/s] \n"
     ]
    }
   ],
   "source": [
    "result_p = {}\n",
    "for k,v in dict_p.items():\n",
    "    result_p[k] = {'game_review':(int(np.mean(v)),int(np.sum(v)),len(v),np.max(v),np.max(v)/np.sum(v)),'followers':None}\n",
    "famous_org = [x for x in publisher_key if publisher[x][0] > 100000 or (publisher[x][1] and publisher[x][1] > 100000)]\n",
    "publisher_key = list(publisher.keys())\n",
    "publisher_key_nomatch = [x for x in publisher_key if x not in result_p.keys()]\n",
    "print(len(publisher_key_nomatch))\n",
    "for k,v in tqdm(result_p.items()):\n",
    "    if k in publisher.keys():\n",
    "        result_p[k]['match_name'] = k\n",
    "        result_p[k]['followers'] = publisher[k]\n",
    "    elif result_p[k]['game_review'][0] >= 1000:\n",
    "        max_index = np.argmax([longer_common_sequence(k,x) for x in publisher_key_nomatch])\n",
    "        match_name = publisher_key_nomatch[max_index]\n",
    "        result_p[k]['followers'] = publisher[match_name]\n",
    "        result_p[k]['match_name'] = match_name\n",
    "    else:\n",
    "        result_p[k]['followers'] = None\n",
    "        result_p[k]['match_name'] = None"
   ]
  },
  {
   "cell_type": "code",
   "execution_count": 8,
   "id": "d2084988-5c0a-4e4b-b2a9-e456fe77fb0c",
   "metadata": {},
   "outputs": [],
   "source": [
    "output = []\n",
    "for k,v in result_p.items():\n",
    "    if v['followers']:\n",
    "        output.append({'name':k,'game_review':v['game_review'],'followers':v['followers'],'match_name':v['match_name']})"
   ]
  },
  {
   "cell_type": "code",
   "execution_count": 9,
   "id": "20003227-1559-4bba-99ec-e19de4c11f55",
   "metadata": {},
   "outputs": [],
   "source": [
    "p_result = [x for x in output if x['followers'][0] > 100000 or (x['followers'][1] and x['followers'][1] > 100000)]"
   ]
  },
  {
   "cell_type": "code",
   "execution_count": 38,
   "id": "d485f5e8-63cd-4ad6-8333-ddc24b95707d",
   "metadata": {},
   "outputs": [
    {
     "name": "stdout",
     "output_type": "stream",
     "text": [
      "55\n"
     ]
    }
   ],
   "source": [
    "result_p = {}\n",
    "for k,v in dict_p.items():\n",
    "    result_p[k] = {'game_review':(int(np.mean(v)),int(np.sum(v)),len(v),np.max(v),np.max(v)/np.sum(v)),'followers':None}\n",
    "\n",
    "    \n",
    "result = []\n",
    "famous_org = [x for x in publisher_key if publisher[x][0] > 100000 or (publisher[x][1] and publisher[x][1] > 100000)]\n",
    "print(len(famous_org))\n",
    "\n",
    "be_select_lists = list(result_p.keys())\n",
    "for fo in famous_org:\n",
    "    if fo in be_select_lists:\n",
    "        result.append((fo,fo,True))\n",
    "    else:\n",
    "        match_index = np.argmax([find_lcsubstr(fo,x) for x in be_select_lists])\n",
    "        match_name = be_select_lists[match_index]\n",
    "        \n",
    "        match_index2 = np.argmax([longer_common_sequence(fo,x) for x in be_select_lists])\n",
    "        match_name2 = be_select_lists[match_index2]\n",
    "        result.append((match_name,match_name2,fo))"
   ]
  },
  {
   "cell_type": "code",
   "execution_count": 46,
   "id": "c817b566-12fa-4d24-92c7-f8d7f587f3dd",
   "metadata": {},
   "outputs": [],
   "source": [
    "with open('famous_publisher.json','w') as f:\n",
    "    for i in famous_publisher:\n",
    "        f.write(i+'\\n')"
   ]
  },
  {
   "cell_type": "code",
   "execution_count": 22,
   "id": "da1325fb-1d68-4e67-ab03-ab0eae1c846b",
   "metadata": {},
   "outputs": [],
   "source": [
    "output = []\n",
    "for k,v in result_p.items():\n",
    "    if v['followers']:\n",
    "        output.append({'name':k,'game_review':v['game_review'],'followers':v['followers'],'match_name':v['match_name']})"
   ]
  },
  {
   "cell_type": "markdown",
   "id": "5e467d71-c176-4412-b8a6-12ef79bab223",
   "metadata": {},
   "source": [
    "# developer"
   ]
  },
  {
   "cell_type": "code",
   "execution_count": 60,
   "id": "fd004e2b-78fc-4c92-92dd-432c7f636e25",
   "metadata": {},
   "outputs": [],
   "source": [
    "result_d = {}\n",
    "for k,v in dict_d.items():\n",
    "    if int(np.mean(v)) > 5000:\n",
    "        result_d[k] = {'game_review':(int(np.mean(v)),int(np.sum(v)),len(v),np.max(v),np.max(v)/np.sum(v)),'followers':None}"
   ]
  },
  {
   "cell_type": "code",
   "execution_count": 52,
   "id": "b0739c80-7668-4221-bb77-e31f982675a6",
   "metadata": {},
   "outputs": [],
   "source": [
    "famous_dev = [x for x in publisher_key if publisher[x][0] > 50000 or (publisher[x][1] and publisher[x][1] > 50000)]"
   ]
  },
  {
   "cell_type": "code",
   "execution_count": 104,
   "id": "66f60fa2-1dd2-4a85-bac9-46f60e2364d4",
   "metadata": {},
   "outputs": [
    {
     "name": "stderr",
     "output_type": "stream",
     "text": [
      "100%|██████████| 21/21 [00:00<00:00, 631.67it/s]\n"
     ]
    }
   ],
   "source": [
    "result = []\n",
    "be_select_lists = list(result_d.keys())\n",
    "for fo in tqdm(need_search):\n",
    "    if fo in be_select_lists:\n",
    "        result.append((fo,fo,True))\n",
    "    else:\n",
    "        match_index = np.argmax([find_lcsubstr(fo,x) for x in need_search])\n",
    "        match_name = be_select_lists[match_index]\n",
    "        result.append((match_name,fo))"
   ]
  },
  {
   "cell_type": "code",
   "execution_count": 295,
   "id": "3f0f8b35-7952-46aa-ae61-56446322d26a",
   "metadata": {},
   "outputs": [],
   "source": [
    "output_d = []\n",
    "for k,v in result_d.items():\n",
    "    output_d.append({'name':k,'game_review':v['game_review'],'followers':v['followers'],'match_name':v['match_name']})"
   ]
  },
  {
   "cell_type": "code",
   "execution_count": 297,
   "id": "43281f48-f512-4c2c-8b30-608068876d7a",
   "metadata": {},
   "outputs": [],
   "source": [
    "output_d = sorted(output_d,key=lambda x:x['followers'][0],reverse=True)"
   ]
  },
  {
   "cell_type": "code",
   "execution_count": 108,
   "id": "a1a2b03a-78a6-4b81-92fc-6a7f623fc389",
   "metadata": {},
   "outputs": [],
   "source": [
    "famous_developer = [x[0] for x in famous_developer]"
   ]
  },
  {
   "cell_type": "code",
   "execution_count": 103,
   "id": "ed3be156-c4db-47f3-83ab-bc63754d815c",
   "metadata": {},
   "outputs": [],
   "source": [
    "need_search = [x for x in wiat if x not in result_d.keys() and x not in famous_developer]"
   ]
  },
  {
   "cell_type": "code",
   "execution_count": 89,
   "id": "fbeac4ad-4345-42e3-8144-7202f3283728",
   "metadata": {},
   "outputs": [],
   "source": [
    "result_d = {}\n",
    "for k,v in dict_d.items():\n",
    "    result_d[k] = {'game_review':(int(np.mean(v)),int(np.sum(v)),len(v),np.max(v),np.max(v)/np.sum(v)),'followers':None}"
   ]
  },
  {
   "cell_type": "code",
   "execution_count": 96,
   "id": "a48762e5-df63-4ceb-bfe2-a51f900bf1a4",
   "metadata": {},
   "outputs": [],
   "source": [
    "result_dd = [(k,v) for k,v in result_d.items() if k not in famous_developer and v['game_review'][2] > 1]"
   ]
  },
  {
   "cell_type": "code",
   "execution_count": 97,
   "id": "20398c45-361f-4f03-be1d-033f2505e6da",
   "metadata": {},
   "outputs": [],
   "source": [
    "result_dd = sorted(result_dd,key =lambda x:x[1]['game_review'][0],reverse=True)"
   ]
  },
  {
   "cell_type": "code",
   "execution_count": 113,
   "id": "a42e62f0-3039-4cb2-868b-fb1d199fd54f",
   "metadata": {
    "pycharm": {
     "name": "#%%\n"
    }
   },
   "outputs": [],
   "source": [
    "with open('famous_developer.json','w') as f:\n",
    "    for i in famous_developer:\n",
    "        f.write(i+'\\n')"
   ]
  }
 ],
 "metadata": {
  "kernelspec": {
   "display_name": "Python 3",
   "language": "python",
   "name": "python3"
  },
  "language_info": {
   "codemirror_mode": {
    "name": "ipython",
    "version": 3
   },
   "file_extension": ".py",
   "mimetype": "text/x-python",
   "name": "python",
   "nbconvert_exporter": "python",
   "pygments_lexer": "ipython3",
   "version": "3.6.12"
  }
 },
 "nbformat": 4,
 "nbformat_minor": 5
}